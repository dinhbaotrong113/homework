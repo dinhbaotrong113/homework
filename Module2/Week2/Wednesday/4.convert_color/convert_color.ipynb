{
 "cells": [
  {
   "cell_type": "markdown",
   "metadata": {},
   "source": [
    "### apply_along_axis"
   ]
  },
  {
   "cell_type": "code",
   "execution_count": 14,
   "metadata": {},
   "outputs": [
    {
     "name": "stdout",
     "output_type": "stream",
     "text": [
      "[[0 1 2]\n",
      " [3 4 5]\n",
      " [6 7 8]]\n"
     ]
    }
   ],
   "source": [
    "import numpy as np\n",
    "\n",
    "data = np.arange(9).reshape((3,3))\n",
    "print(data)"
   ]
  },
  {
   "cell_type": "code",
   "execution_count": 17,
   "metadata": {},
   "outputs": [
    {
     "name": "stdout",
     "output_type": "stream",
     "text": [
      "[6 7 8]\n"
     ]
    }
   ],
   "source": [
    "result0 = np.apply_along_axis(np.max, arr=data, axis=0)\n",
    "print(result0)"
   ]
  },
  {
   "cell_type": "code",
   "execution_count": 16,
   "metadata": {},
   "outputs": [
    {
     "name": "stdout",
     "output_type": "stream",
     "text": [
      "[2 5 8]\n"
     ]
    }
   ],
   "source": [
    "result1 = np.apply_along_axis(np.max, arr=data, axis=1)\n",
    "print(result1)"
   ]
  },
  {
   "cell_type": "code",
   "execution_count": null,
   "metadata": {},
   "outputs": [],
   "source": []
  },
  {
   "cell_type": "code",
   "execution_count": 18,
   "metadata": {},
   "outputs": [
    {
     "name": "stdout",
     "output_type": "stream",
     "text": [
      "[[0 1 2]\n",
      " [3 4 5]\n",
      " [6 7 8]]\n",
      "[ 9 12 15]\n",
      "[ 3 12 21]\n"
     ]
    }
   ],
   "source": [
    "import numpy as np\n",
    "\n",
    "def my_sum(vector):\n",
    "    return vector.sum()\n",
    "\n",
    "data = np.arange(9).reshape((3,3))\n",
    "print(data)\n",
    "\n",
    "result0 = np.apply_along_axis(my_sum, \n",
    "                              arr=data, axis=0)\n",
    "print(result0)\n",
    "\n",
    "result1 = np.apply_along_axis(my_sum, \n",
    "                              arr=data, axis=1)\n",
    "print(result1)"
   ]
  },
  {
   "cell_type": "code",
   "execution_count": null,
   "metadata": {},
   "outputs": [],
   "source": []
  },
  {
   "cell_type": "markdown",
   "metadata": {},
   "source": [
    "### For Images"
   ]
  },
  {
   "cell_type": "code",
   "execution_count": 1,
   "metadata": {},
   "outputs": [
    {
     "data": {
      "text/plain": [
       "True"
      ]
     },
     "execution_count": 1,
     "metadata": {},
     "output_type": "execute_result"
    }
   ],
   "source": [
    "# way 1\n",
    "\n",
    "import cv2\n",
    "import numpy as np\n",
    "\n",
    "# Read the image\n",
    "image = cv2.imread('image_color.png', 1)\n",
    "\n",
    "def color2grayscale(vector):\n",
    "    return vector[0]*0.3 + vector[1]*0.59 + vector[2]*0.11\n",
    "\n",
    "# Convert \n",
    "grayscale_image = np.apply_along_axis(color2grayscale, axis=2, arr=image)\n",
    "\n",
    "# Save the grayscale image\n",
    "cv2.imwrite('output1.png', grayscale_image)\n"
   ]
  },
  {
   "cell_type": "code",
   "execution_count": null,
   "metadata": {},
   "outputs": [],
   "source": []
  },
  {
   "cell_type": "code",
   "execution_count": 1,
   "metadata": {},
   "outputs": [
    {
     "data": {
      "text/plain": [
       "True"
      ]
     },
     "execution_count": 1,
     "metadata": {},
     "output_type": "execute_result"
    }
   ],
   "source": [
    "# way 2\n",
    "\n",
    "import cv2\n",
    "import numpy as np\n",
    "\n",
    "# Read the image\n",
    "image = cv2.imread('image_color.png', 1)\n",
    "\n",
    "def color2grayscale(vector):\n",
    "    return vector[0]*0.33 + vector[1]*0.33 + vector[2]*0.34\n",
    "\n",
    "# Convert to grayscale\n",
    "grayscale_image = np.apply_along_axis(color2grayscale, \n",
    "                                      axis=2, \n",
    "                                      arr=image)\n",
    "\n",
    "# Save the grayscale image\n",
    "cv2.imwrite('output2.png', grayscale_image)\n"
   ]
  },
  {
   "cell_type": "code",
   "execution_count": null,
   "metadata": {},
   "outputs": [],
   "source": []
  },
  {
   "cell_type": "code",
   "execution_count": 2,
   "metadata": {},
   "outputs": [
    {
     "data": {
      "text/plain": [
       "True"
      ]
     },
     "execution_count": 2,
     "metadata": {},
     "output_type": "execute_result"
    }
   ],
   "source": [
    "# way 3\n",
    "\n",
    "import cv2\n",
    "import numpy as np\n",
    "\n",
    "# Read the image\n",
    "image = cv2.imread('image_color.png', 1)\n",
    "\n",
    "def color2grayscale(vector):\n",
    "    result = vector.mean()\n",
    "    result = result.astype(np.uint8)\n",
    "    return result\n",
    "\n",
    "# Convert \n",
    "grayscale_image = np.apply_along_axis(color2grayscale, \n",
    "                                      axis=2, \n",
    "                                      arr=image)\n",
    "\n",
    "# Save the grayscale image\n",
    "cv2.imwrite('output3.png', grayscale_image)\n"
   ]
  },
  {
   "cell_type": "code",
   "execution_count": null,
   "metadata": {},
   "outputs": [],
   "source": []
  }
 ],
 "metadata": {
  "kernelspec": {
   "display_name": "Python 3 (ipykernel)",
   "language": "python",
   "name": "python3"
  },
  "language_info": {
   "codemirror_mode": {
    "name": "ipython",
    "version": 3
   },
   "file_extension": ".py",
   "mimetype": "text/x-python",
   "name": "python",
   "nbconvert_exporter": "python",
   "pygments_lexer": "ipython3",
   "version": "3.12.4"
  }
 },
 "nbformat": 4,
 "nbformat_minor": 2
}
