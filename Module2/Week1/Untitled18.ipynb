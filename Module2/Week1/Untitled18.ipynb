{
  "nbformat": 4,
  "nbformat_minor": 0,
  "metadata": {
    "colab": {
      "provenance": []
    },
    "kernelspec": {
      "name": "python3",
      "display_name": "Python 3"
    },
    "language_info": {
      "name": "python"
    }
  },
  "cells": [
    {
      "cell_type": "code",
      "execution_count": 10,
      "metadata": {
        "colab": {
          "base_uri": "https://localhost:8080/"
        },
        "id": "Kgi8bwaRnqRB",
        "outputId": "f3743f87-5641-4bac-93c2-6e63348a0524"
      },
      "outputs": [
        {
          "output_type": "stream",
          "name": "stdout",
          "text": [
            "Downloading...\n",
            "From: https://drive.google.com/uc?id=1i9dqan21DjQoG5Q_VEvm0LrVwAlXD0vB\n",
            "To: /content/dog.jpeg\n",
            "\r  0% 0.00/33.7k [00:00<?, ?B/s]\r100% 33.7k/33.7k [00:00<00:00, 61.1MB/s]\n",
            "[[[118 134  71]\n",
            "  [ 89 105  42]\n",
            "  [ 82  98  35]\n",
            "  ...\n",
            "  [151 163 149]\n",
            "  [151 163 149]\n",
            "  [151 163 149]]\n",
            "\n",
            " [[119 135  72]\n",
            "  [ 89 105  42]\n",
            "  [ 83  99  36]\n",
            "  ...\n",
            "  [151 164 147]\n",
            "  [151 163 149]\n",
            "  [151 164 147]]\n",
            "\n",
            " [[119 135  72]\n",
            "  [ 90 106  43]\n",
            "  [ 83  99  36]\n",
            "  ...\n",
            "  [151 164 146]\n",
            "  [150 163 146]\n",
            "  [150 163 145]]\n",
            "\n",
            " ...\n",
            "\n",
            " [[145 155  94]\n",
            "  [126 136  73]\n",
            "  [119 132  62]\n",
            "  ...\n",
            "  [116 152  82]\n",
            "  [113 149  79]\n",
            "  [110 147  77]]\n",
            "\n",
            " [[138 148  87]\n",
            "  [119 129  66]\n",
            "  [112 125  56]\n",
            "  ...\n",
            "  [116 151  83]\n",
            "  [113 148  80]\n",
            "  [110 147  78]]\n",
            "\n",
            " [[136 146  85]\n",
            "  [117 127  64]\n",
            "  [109 122  53]\n",
            "  ...\n",
            "  [117 152  86]\n",
            "  [114 149  83]\n",
            "  [111 148  81]]]\n"
          ]
        },
        {
          "output_type": "execute_result",
          "data": {
            "text/plain": [
              "102.5"
            ]
          },
          "metadata": {},
          "execution_count": 10
        }
      ],
      "source": [
        "!gdown 1i9dqan21DjQoG5Q_VEvm0LrVwAlXD0vB\n",
        "\n",
        "import matplotlib.image as mpimg\n",
        "import numpy as np\n",
        "img = mpimg.imread ('/content/dog.jpeg')\n",
        "print(img)\n",
        "gray_img_max = np.max(img, axis = 2)\n",
        "gray_img_min = np.min(img, axis = 2)\n",
        "gray_img_01 = (gray_img_max + gray_img_min)/2\n",
        "# print(gray_img_01)\n",
        "gray_img_01 [0 , 0]"
      ]
    },
    {
      "cell_type": "code",
      "source": [
        "!gdown 1i9dqan21DjQoG5Q_VEvm0LrVwAlXD0vB\n",
        "\n",
        "import matplotlib.image as mpimg\n",
        "import numpy as np\n",
        "img = mpimg.imread ('/content/dog.jpeg')\n",
        "print(img)\n",
        "gray_img_01 = np.mean(img, axis = 2)\n",
        "\n",
        "# print(gray_img_01)\n",
        "gray_img_01 [0 , 0]"
      ],
      "metadata": {
        "colab": {
          "base_uri": "https://localhost:8080/"
        },
        "id": "wAi6omb4ntES",
        "outputId": "98bdb708-5e98-49e5-9915-9f739cf995a2"
      },
      "execution_count": 11,
      "outputs": [
        {
          "output_type": "stream",
          "name": "stdout",
          "text": [
            "Downloading...\n",
            "From: https://drive.google.com/uc?id=1i9dqan21DjQoG5Q_VEvm0LrVwAlXD0vB\n",
            "To: /content/dog.jpeg\n",
            "\r  0% 0.00/33.7k [00:00<?, ?B/s]\r100% 33.7k/33.7k [00:00<00:00, 51.3MB/s]\n",
            "[[[118 134  71]\n",
            "  [ 89 105  42]\n",
            "  [ 82  98  35]\n",
            "  ...\n",
            "  [151 163 149]\n",
            "  [151 163 149]\n",
            "  [151 163 149]]\n",
            "\n",
            " [[119 135  72]\n",
            "  [ 89 105  42]\n",
            "  [ 83  99  36]\n",
            "  ...\n",
            "  [151 164 147]\n",
            "  [151 163 149]\n",
            "  [151 164 147]]\n",
            "\n",
            " [[119 135  72]\n",
            "  [ 90 106  43]\n",
            "  [ 83  99  36]\n",
            "  ...\n",
            "  [151 164 146]\n",
            "  [150 163 146]\n",
            "  [150 163 145]]\n",
            "\n",
            " ...\n",
            "\n",
            " [[145 155  94]\n",
            "  [126 136  73]\n",
            "  [119 132  62]\n",
            "  ...\n",
            "  [116 152  82]\n",
            "  [113 149  79]\n",
            "  [110 147  77]]\n",
            "\n",
            " [[138 148  87]\n",
            "  [119 129  66]\n",
            "  [112 125  56]\n",
            "  ...\n",
            "  [116 151  83]\n",
            "  [113 148  80]\n",
            "  [110 147  78]]\n",
            "\n",
            " [[136 146  85]\n",
            "  [117 127  64]\n",
            "  [109 122  53]\n",
            "  ...\n",
            "  [117 152  86]\n",
            "  [114 149  83]\n",
            "  [111 148  81]]]\n"
          ]
        },
        {
          "output_type": "execute_result",
          "data": {
            "text/plain": [
              "107.66666666666667"
            ]
          },
          "metadata": {},
          "execution_count": 11
        }
      ]
    },
    {
      "cell_type": "code",
      "source": [
        "!gdown 1i9dqan21DjQoG5Q_VEvm0LrVwAlXD0vB\n",
        "\n",
        "import matplotlib.image as mpimg\n",
        "import numpy as np\n",
        "img = mpimg.imread ('/content/dog.jpeg')\n",
        "print(img)\n",
        "gray_img_R = img[:,:,0]\n",
        "gray_img_G = img[:,:,1]\n",
        "gray_img_B = img[:,:,2]\n",
        "gray_img_01 = gray_img_R*0.21 + gray_img_G*0.72 + gray_img_B*0.07\n",
        "\n",
        "# print(gray_img_01)\n",
        "gray_img_01 [0 , 0]"
      ],
      "metadata": {
        "colab": {
          "base_uri": "https://localhost:8080/"
        },
        "id": "eNewyQEDtVid",
        "outputId": "bc20b960-32c7-48db-94d0-89db40055758"
      },
      "execution_count": 12,
      "outputs": [
        {
          "output_type": "stream",
          "name": "stdout",
          "text": [
            "Downloading...\n",
            "From: https://drive.google.com/uc?id=1i9dqan21DjQoG5Q_VEvm0LrVwAlXD0vB\n",
            "To: /content/dog.jpeg\n",
            "\r  0% 0.00/33.7k [00:00<?, ?B/s]\r100% 33.7k/33.7k [00:00<00:00, 58.2MB/s]\n",
            "[[[118 134  71]\n",
            "  [ 89 105  42]\n",
            "  [ 82  98  35]\n",
            "  ...\n",
            "  [151 163 149]\n",
            "  [151 163 149]\n",
            "  [151 163 149]]\n",
            "\n",
            " [[119 135  72]\n",
            "  [ 89 105  42]\n",
            "  [ 83  99  36]\n",
            "  ...\n",
            "  [151 164 147]\n",
            "  [151 163 149]\n",
            "  [151 164 147]]\n",
            "\n",
            " [[119 135  72]\n",
            "  [ 90 106  43]\n",
            "  [ 83  99  36]\n",
            "  ...\n",
            "  [151 164 146]\n",
            "  [150 163 146]\n",
            "  [150 163 145]]\n",
            "\n",
            " ...\n",
            "\n",
            " [[145 155  94]\n",
            "  [126 136  73]\n",
            "  [119 132  62]\n",
            "  ...\n",
            "  [116 152  82]\n",
            "  [113 149  79]\n",
            "  [110 147  77]]\n",
            "\n",
            " [[138 148  87]\n",
            "  [119 129  66]\n",
            "  [112 125  56]\n",
            "  ...\n",
            "  [116 151  83]\n",
            "  [113 148  80]\n",
            "  [110 147  78]]\n",
            "\n",
            " [[136 146  85]\n",
            "  [117 127  64]\n",
            "  [109 122  53]\n",
            "  ...\n",
            "  [117 152  86]\n",
            "  [114 149  83]\n",
            "  [111 148  81]]]\n"
          ]
        },
        {
          "output_type": "execute_result",
          "data": {
            "text/plain": [
              "126.22999999999999"
            ]
          },
          "metadata": {},
          "execution_count": 12
        }
      ]
    },
    {
      "cell_type": "code",
      "source": [
        "! gdown 1iA0WmVfW88HyJvTBSQDI5vesf-pgKabq\n",
        "import pandas as pd\n",
        "df = pd.read_csv ('/content/advertising.csv')\n",
        "data = df.to_numpy()\n",
        "sale = data[:,3]\n",
        "max_sale = np.max(sale)\n",
        "index_max_sale = np.where(sale == max_sale)\n",
        "print(max_sale, index_max_sale[0])"
      ],
      "metadata": {
        "colab": {
          "base_uri": "https://localhost:8080/"
        },
        "id": "WcLjidmZt0bZ",
        "outputId": "84c30966-d6a8-404a-ce01-d943683edca0"
      },
      "execution_count": 18,
      "outputs": [
        {
          "output_type": "stream",
          "name": "stdout",
          "text": [
            "Downloading...\n",
            "From: https://drive.google.com/uc?id=1iA0WmVfW88HyJvTBSQDI5vesf-pgKabq\n",
            "To: /content/advertising.csv\n",
            "\r  0% 0.00/4.06k [00:00<?, ?B/s]\r100% 4.06k/4.06k [00:00<00:00, 9.38MB/s]\n",
            "27.0 [175]\n"
          ]
        }
      ]
    },
    {
      "cell_type": "code",
      "source": [
        "mean_TV = np.mean(data[:,0])\n",
        "print(mean_TV)"
      ],
      "metadata": {
        "colab": {
          "base_uri": "https://localhost:8080/"
        },
        "id": "Z0ycuVksuO4K",
        "outputId": "e7ee1bcd-af86-4c8b-d7ec-006fca01a5dc"
      },
      "execution_count": 19,
      "outputs": [
        {
          "output_type": "stream",
          "name": "stdout",
          "text": [
            "147.0425\n"
          ]
        }
      ]
    },
    {
      "cell_type": "code",
      "source": [
        "print(sale[sale >= 20])"
      ],
      "metadata": {
        "colab": {
          "base_uri": "https://localhost:8080/"
        },
        "id": "opz5y7QYvM4u",
        "outputId": "d4ba9ece-5a23-4fdf-eed9-c70a788e6ea2"
      },
      "execution_count": 24,
      "outputs": [
        {
          "output_type": "stream",
          "name": "stdout",
          "text": [
            "[22.1 22.4 24.4 20.5 20.9 21.4 25.4 21.5 20.7 23.2 22.6 21.2 20.2 23.7\n",
            " 23.8 24.2 20.7 22.3 21.7 20.2 22.2 20.5 25.4 23.8 20.7 21.8 20.9 24.7\n",
            " 20.8 20.7 20.1 25.4 20.6 20.  27.  20.2 26.2 22.6 20.9 25.5]\n"
          ]
        }
      ]
    },
    {
      "cell_type": "code",
      "source": [
        "radio_condition = np.sum(sale[np.where(data[:,2] >= np.mean(data[:,2]))])\n",
        "print(radio_condition)"
      ],
      "metadata": {
        "colab": {
          "base_uri": "https://localhost:8080/"
        },
        "id": "wlc2MpoXvh12",
        "outputId": "03068e9b-c986-4ebe-c00a-313c29683495"
      },
      "execution_count": 27,
      "outputs": [
        {
          "output_type": "stream",
          "name": "stdout",
          "text": [
            "1405.1\n"
          ]
        }
      ]
    },
    {
      "cell_type": "code",
      "source": [
        "ss = np.where(sale == np.mean(sale), 'aven', (np.where(sale > np.mean(sale), 'good', 'bad')))\n",
        "print(ss[7:10])"
      ],
      "metadata": {
        "colab": {
          "base_uri": "https://localhost:8080/"
        },
        "id": "LhrhaBbY1Smk",
        "outputId": "5b3fb299-feab-48f8-e008-fc406ec055a9"
      },
      "execution_count": 40,
      "outputs": [
        {
          "output_type": "stream",
          "name": "stdout",
          "text": [
            "['bad' 'bad' 'good']\n"
          ]
        }
      ]
    },
    {
      "cell_type": "code",
      "source": [
        "kk = abs(sale - np.mean(sale))\n",
        "a = sale[np.where(kk == np.min(kk))]\n",
        "print(a)\n",
        "ss = np.where(sale == a, 'aven', (np.where(sale > a, 'good', 'bad')))\n",
        "print(ss[7:10])"
      ],
      "metadata": {
        "colab": {
          "base_uri": "https://localhost:8080/"
        },
        "id": "UOW57tx21t0x",
        "outputId": "4560ce1c-28bf-46a5-8232-d0ef66dc2e76"
      },
      "execution_count": 46,
      "outputs": [
        {
          "output_type": "stream",
          "name": "stdout",
          "text": [
            "[15.2]\n",
            "['bad' 'bad' 'good']\n"
          ]
        }
      ]
    },
    {
      "cell_type": "code",
      "source": [],
      "metadata": {
        "id": "mL5OoeIu3tc_"
      },
      "execution_count": null,
      "outputs": []
    }
  ]
}